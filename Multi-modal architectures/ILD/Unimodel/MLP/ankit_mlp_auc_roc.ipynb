{
 "cells": [
  {
   "cell_type": "code",
   "execution_count": 1,
   "metadata": {},
   "outputs": [
    {
     "name": "stdout",
     "output_type": "stream",
     "text": [
      "1.0.1.post2\n",
      "True\n"
     ]
    }
   ],
   "source": [
    "import torch\n",
    "print(torch.__version__)\n",
    "print(torch.cuda.is_available())\n",
    "from path import Path\n",
    "from sklearn.preprocessing import label_binarize\n",
    "from sklearn.metrics import roc_curve, auc\n",
    "import matplotlib.pyplot as plt\n",
    "import numpy as np\n",
    "import matplotlib.pyplot as plt\n",
    "from itertools import cycle\n",
    "\n",
    "from sklearn import svm, datasets\n",
    "from sklearn.metrics import roc_curve, auc\n",
    "from sklearn.model_selection import train_test_split\n",
    "from sklearn.preprocessing import label_binarize\n",
    "from sklearn.multiclass import OneVsRestClassifier\n",
    "from scipy import interp"
   ]
  },
  {
   "cell_type": "code",
   "execution_count": 2,
   "metadata": {},
   "outputs": [],
   "source": [
    "from torch import nn\n",
    "import numpy as np\n",
    "from torch import nn\n",
    "import torch.nn.functional as F"
   ]
  },
  {
   "cell_type": "code",
   "execution_count": 3,
   "metadata": {},
   "outputs": [],
   "source": [
    "import os\n",
    "import pandas as pd\n",
    "import numpy as np\n",
    "import os\n",
    "from sklearn.model_selection import train_test_split\n",
    "df=pd.DataFrame()\n",
    "azz={}"
   ]
  },
  {
   "cell_type": "code",
   "execution_count": 4,
   "metadata": {},
   "outputs": [],
   "source": [
    "def plot_roc(y_test,y_score,n_classes):\n",
    "    #y_test=N_elements\n",
    "    #y_score=N_elements X N_classes\n",
    "#     fpr = dict()\n",
    "#     tpr = dict()\n",
    "    file1 = open(\"ild_roc_pts_mlp.txt\",\"a\")\n",
    "    y_test = label_binarize(y_test, classes=[0, 1, 2])\n",
    "    # Compute ROC curve and ROC area for each class\n",
    "    fpr = dict()\n",
    "    tpr = dict()\n",
    "    roc_auc = dict()\n",
    "    for i in range(n_classes):\n",
    "        fpr[i], tpr[i], _ = roc_curve(y_test[:, i], y_score[:, i])\n",
    "        roc_auc[i] = auc(fpr[i], tpr[i])\n",
    "\n",
    "    # Compute micro-average ROC curve and ROC area\n",
    "    fpr[\"micro\"], tpr[\"micro\"], _ = roc_curve(y_test.ravel(), y_score.ravel())\n",
    "    roc_auc[\"micro\"] = auc(fpr[\"micro\"], tpr[\"micro\"])\n",
    "    \n",
    "    all_fpr = np.unique(np.concatenate([fpr[i] for i in range(n_classes)]))\n",
    "    plt.figure()\n",
    "    lw = 2\n",
    "    # Then interpolate all ROC curves at this points\n",
    "    mean_tpr = np.zeros_like(all_fpr)\n",
    "    for i in range(n_classes):\n",
    "        mean_tpr += interp(all_fpr, fpr[i], tpr[i])\n",
    "\n",
    "    # Finally average it and compute AUC\n",
    "    mean_tpr /= n_classes\n",
    "\n",
    "    fpr[\"macro\"] = all_fpr\n",
    "    tpr[\"macro\"] = mean_tpr\n",
    "    roc_auc[\"macro\"] = auc(fpr[\"macro\"], tpr[\"macro\"])\n",
    "\n",
    "\n",
    "    # Plot all ROC curves\n",
    "    plt.figure()\n",
    "    plt.plot(fpr[\"micro\"], tpr[\"micro\"],\n",
    "             label='micro-average ROC curve (area = {0:0.2f})'\n",
    "                   ''.format(roc_auc[\"micro\"]),\n",
    "             color='deeppink', linestyle=':', linewidth=4)\n",
    "    azz['fpr']=fpr[\"macro\"]\n",
    "    azz['tpr']=tpr[\"macro\"]\n",
    "\n",
    "    plt.plot(fpr[\"macro\"], tpr[\"macro\"],\n",
    "             label='macro-average ROC curve (area = {0:0.2f})'\n",
    "                   ''.format(roc_auc[\"macro\"]),\n",
    "             color='navy', linestyle=':', linewidth=4)\n",
    "    print(fpr['macro'].shape,tpr['macro'].shape,roc_auc[\"macro\"])\n",
    "\n",
    "    colors = cycle(['aqua', 'darkorange', 'cornflowerblue'])\n",
    "    for i, color in zip(range(n_classes), colors):\n",
    "        plt.plot(fpr[i], tpr[i], color=color, lw=lw,\n",
    "                 label='ROC curve of class {0} (area = {1:0.2f})'\n",
    "                 ''.format(i, roc_auc[i]))\n",
    "\n",
    "    plt.plot([0, 1], [0, 1], 'k--', lw=lw)\n",
    "    plt.xlim([0.0, 1.0])\n",
    "    plt.ylim([0.0, 1.05])\n",
    "    plt.xlabel('False Positive Rate')\n",
    "    plt.ylabel('True Positive Rate')\n",
    "    plt.title('MLP  FOR  ILD  DATASET')\n",
    "    plt.legend(loc=\"lower right\")\n",
    "    plt.show()\n",
    "\n"
   ]
  },
  {
   "cell_type": "code",
   "execution_count": 5,
   "metadata": {},
   "outputs": [
    {
     "name": "stdout",
     "output_type": "stream",
     "text": [
      "18144 31\n"
     ]
    },
    {
     "data": {
      "text/html": [
       "<div>\n",
       "<style scoped>\n",
       "    .dataframe tbody tr th:only-of-type {\n",
       "        vertical-align: middle;\n",
       "    }\n",
       "\n",
       "    .dataframe tbody tr th {\n",
       "        vertical-align: top;\n",
       "    }\n",
       "\n",
       "    .dataframe thead th {\n",
       "        text-align: right;\n",
       "    }\n",
       "</style>\n",
       "<table border=\"1\" class=\"dataframe\">\n",
       "  <thead>\n",
       "    <tr style=\"text-align: right;\">\n",
       "      <th></th>\n",
       "      <th>id_ref</th>\n",
       "      <th>gen_name</th>\n",
       "      <th>v1</th>\n",
       "      <th>v2</th>\n",
       "      <th>v3</th>\n",
       "      <th>v4</th>\n",
       "      <th>v5</th>\n",
       "      <th>v6</th>\n",
       "      <th>v7</th>\n",
       "      <th>v8</th>\n",
       "      <th>...</th>\n",
       "      <th>v20</th>\n",
       "      <th>v21</th>\n",
       "      <th>v22</th>\n",
       "      <th>v23</th>\n",
       "      <th>v24</th>\n",
       "      <th>v25</th>\n",
       "      <th>v26</th>\n",
       "      <th>v27</th>\n",
       "      <th>v28</th>\n",
       "      <th>v29</th>\n",
       "    </tr>\n",
       "  </thead>\n",
       "  <tbody>\n",
       "    <tr>\n",
       "      <th>0</th>\n",
       "      <td>117_at</td>\n",
       "      <td>HSPA6</td>\n",
       "      <td>9.30153</td>\n",
       "      <td>7.76291</td>\n",
       "      <td>8.22701</td>\n",
       "      <td>6.53772</td>\n",
       "      <td>7.07184</td>\n",
       "      <td>6.52416</td>\n",
       "      <td>8.44547</td>\n",
       "      <td>9.12909</td>\n",
       "      <td>...</td>\n",
       "      <td>7.65737</td>\n",
       "      <td>7.57223</td>\n",
       "      <td>6.32249</td>\n",
       "      <td>8.68267</td>\n",
       "      <td>7.96583</td>\n",
       "      <td>7.06424</td>\n",
       "      <td>7.83115</td>\n",
       "      <td>7.10093</td>\n",
       "      <td>8.22633</td>\n",
       "      <td>7.02261</td>\n",
       "    </tr>\n",
       "    <tr>\n",
       "      <th>1</th>\n",
       "      <td>1552256_a_at</td>\n",
       "      <td>SCARB1</td>\n",
       "      <td>9.23851</td>\n",
       "      <td>8.72522</td>\n",
       "      <td>9.64837</td>\n",
       "      <td>8.57190</td>\n",
       "      <td>8.65099</td>\n",
       "      <td>7.83348</td>\n",
       "      <td>9.23631</td>\n",
       "      <td>7.48586</td>\n",
       "      <td>...</td>\n",
       "      <td>7.62708</td>\n",
       "      <td>8.58799</td>\n",
       "      <td>8.29108</td>\n",
       "      <td>10.14260</td>\n",
       "      <td>8.76561</td>\n",
       "      <td>8.72965</td>\n",
       "      <td>9.03287</td>\n",
       "      <td>8.62517</td>\n",
       "      <td>9.47877</td>\n",
       "      <td>8.99476</td>\n",
       "    </tr>\n",
       "    <tr>\n",
       "      <th>2</th>\n",
       "      <td>1552264_a_at</td>\n",
       "      <td>MAPK1</td>\n",
       "      <td>7.66847</td>\n",
       "      <td>6.33183</td>\n",
       "      <td>7.63279</td>\n",
       "      <td>6.88978</td>\n",
       "      <td>5.22121</td>\n",
       "      <td>7.19912</td>\n",
       "      <td>6.05334</td>\n",
       "      <td>7.88042</td>\n",
       "      <td>...</td>\n",
       "      <td>6.59411</td>\n",
       "      <td>6.97608</td>\n",
       "      <td>7.01681</td>\n",
       "      <td>6.22543</td>\n",
       "      <td>7.47331</td>\n",
       "      <td>5.71312</td>\n",
       "      <td>6.74352</td>\n",
       "      <td>6.95748</td>\n",
       "      <td>6.91755</td>\n",
       "      <td>6.51478</td>\n",
       "    </tr>\n",
       "    <tr>\n",
       "      <th>3</th>\n",
       "      <td>1552266_at</td>\n",
       "      <td>ADAM32</td>\n",
       "      <td>2.93300</td>\n",
       "      <td>3.21916</td>\n",
       "      <td>2.90779</td>\n",
       "      <td>2.92548</td>\n",
       "      <td>3.00375</td>\n",
       "      <td>2.92548</td>\n",
       "      <td>3.48475</td>\n",
       "      <td>2.90148</td>\n",
       "      <td>...</td>\n",
       "      <td>2.87648</td>\n",
       "      <td>2.88108</td>\n",
       "      <td>2.88388</td>\n",
       "      <td>3.70028</td>\n",
       "      <td>2.89574</td>\n",
       "      <td>2.89005</td>\n",
       "      <td>2.80739</td>\n",
       "      <td>2.86702</td>\n",
       "      <td>2.92548</td>\n",
       "      <td>2.96130</td>\n",
       "    </tr>\n",
       "    <tr>\n",
       "      <th>4</th>\n",
       "      <td>1552269_at</td>\n",
       "      <td>SPATA17</td>\n",
       "      <td>3.28760</td>\n",
       "      <td>3.28215</td>\n",
       "      <td>3.23187</td>\n",
       "      <td>4.13789</td>\n",
       "      <td>3.28960</td>\n",
       "      <td>3.67241</td>\n",
       "      <td>3.32874</td>\n",
       "      <td>3.35934</td>\n",
       "      <td>...</td>\n",
       "      <td>3.26634</td>\n",
       "      <td>3.26095</td>\n",
       "      <td>3.24001</td>\n",
       "      <td>3.30414</td>\n",
       "      <td>3.26701</td>\n",
       "      <td>3.22343</td>\n",
       "      <td>3.18599</td>\n",
       "      <td>3.27333</td>\n",
       "      <td>3.26745</td>\n",
       "      <td>3.29148</td>\n",
       "    </tr>\n",
       "  </tbody>\n",
       "</table>\n",
       "<p>5 rows × 31 columns</p>\n",
       "</div>"
      ],
      "text/plain": [
       "         id_ref gen_name       v1       v2       v3       v4       v5  \\\n",
       "0        117_at    HSPA6  9.30153  7.76291  8.22701  6.53772  7.07184   \n",
       "1  1552256_a_at   SCARB1  9.23851  8.72522  9.64837  8.57190  8.65099   \n",
       "2  1552264_a_at    MAPK1  7.66847  6.33183  7.63279  6.88978  5.22121   \n",
       "3    1552266_at   ADAM32  2.93300  3.21916  2.90779  2.92548  3.00375   \n",
       "4    1552269_at  SPATA17  3.28760  3.28215  3.23187  4.13789  3.28960   \n",
       "\n",
       "        v6       v7       v8  ...      v20      v21      v22       v23  \\\n",
       "0  6.52416  8.44547  9.12909  ...  7.65737  7.57223  6.32249   8.68267   \n",
       "1  7.83348  9.23631  7.48586  ...  7.62708  8.58799  8.29108  10.14260   \n",
       "2  7.19912  6.05334  7.88042  ...  6.59411  6.97608  7.01681   6.22543   \n",
       "3  2.92548  3.48475  2.90148  ...  2.87648  2.88108  2.88388   3.70028   \n",
       "4  3.67241  3.32874  3.35934  ...  3.26634  3.26095  3.24001   3.30414   \n",
       "\n",
       "       v24      v25      v26      v27      v28      v29  \n",
       "0  7.96583  7.06424  7.83115  7.10093  8.22633  7.02261  \n",
       "1  8.76561  8.72965  9.03287  8.62517  9.47877  8.99476  \n",
       "2  7.47331  5.71312  6.74352  6.95748  6.91755  6.51478  \n",
       "3  2.89574  2.89005  2.80739  2.86702  2.92548  2.96130  \n",
       "4  3.26701  3.22343  3.18599  3.27333  3.26745  3.29148  \n",
       "\n",
       "[5 rows x 31 columns]"
      ]
     },
     "execution_count": 5,
     "metadata": {},
     "output_type": "execute_result"
    }
   ],
   "source": [
    "seed=4\n",
    "df=pd.read_csv(\"../../data/ILD.csv\")\n",
    "no_of_rows,no_of_cols=df.shape\n",
    "print (no_of_rows,no_of_cols)\n",
    "df.head()"
   ]
  },
  {
   "cell_type": "code",
   "execution_count": 6,
   "metadata": {},
   "outputs": [
    {
     "name": "stdout",
     "output_type": "stream",
     "text": [
      "(18144, 29)\n"
     ]
    }
   ],
   "source": [
    "header_of_pd=['v'+str(i+1) for i in range(no_of_cols-2)]\n",
    "X=np.array(df[header_of_pd])\n",
    "print(X.shape)"
   ]
  },
  {
   "cell_type": "code",
   "execution_count": null,
   "metadata": {},
   "outputs": [],
   "source": []
  },
  {
   "cell_type": "code",
   "execution_count": 7,
   "metadata": {},
   "outputs": [],
   "source": [
    "fil=open('../../data/labels_ILD.txt','r')\n",
    "tmp=list()\n",
    "for line in fil:\n",
    "\ttmp.append(int(line))\n",
    "\n",
    "Y=np.array(tmp)\n"
   ]
  },
  {
   "cell_type": "code",
   "execution_count": 8,
   "metadata": {},
   "outputs": [
    {
     "name": "stdout",
     "output_type": "stream",
     "text": [
      "9947 10952 10884 0\n"
     ]
    }
   ],
   "source": [
    "augmented_X=[]\n",
    "augmented_Y=[]\n",
    "a=0\n",
    "b=0\n",
    "c=0\n",
    "d=0\n",
    "choice=0\n",
    "t=0\n",
    "for i in Y:\n",
    "    if i==0:\n",
    "        \n",
    "        choice=1\n",
    "        a=a+choice\n",
    "    elif i==1:\n",
    "        choice=2\n",
    "        b=b+choice\n",
    "        \n",
    "    elif i==2:\n",
    "        choice=4\n",
    "        c=c+choice\n",
    "    for u in range(choice):\n",
    "        augmented_X.append(X[t])\n",
    "        augmented_Y.append(Y[t])\n",
    "    t=t+1\n",
    "    \n",
    "print(a,b,c,d)\n",
    "augmented_X=np.array(augmented_X)\n",
    "augmented_Y=np.array(augmented_Y)"
   ]
  },
  {
   "cell_type": "code",
   "execution_count": 9,
   "metadata": {},
   "outputs": [
    {
     "name": "stdout",
     "output_type": "stream",
     "text": [
      "(6357, 29)\n"
     ]
    }
   ],
   "source": [
    "X_train,X_test,Y_train,Y_test=train_test_split(augmented_X,augmented_Y,test_size=0.20,random_state=2)\n",
    "print(X_test.shape)"
   ]
  },
  {
   "cell_type": "code",
   "execution_count": 10,
   "metadata": {},
   "outputs": [],
   "source": [
    "class Net(torch.nn.Module):\n",
    "    def __init__(self, n_feature,out_features):\n",
    "        super(Net, self).__init__()\n",
    "        self.hidden1 = torch.nn.Linear(n_feature,450)\n",
    "        self.hidden2 = torch.nn.Linear(450,225)\n",
    "        self.hidden3 = torch.nn.Linear(225,15)\n",
    "        self.predict = torch.nn.Linear(15,out_features)\n",
    "        self.bn1 = nn.BatchNorm1d(num_features=450)\n",
    "        self.bn2 = nn.BatchNorm1d(num_features=225)\n",
    "        self.bn3 = nn.BatchNorm1d(num_features=15)\n",
    "        self.dropout=nn.Dropout(0.2)\n",
    "\n",
    "        \n",
    "    def forward(self, x):\n",
    "        x = F.relu(self.hidden1(x))\n",
    "        x=self.bn1(x)\n",
    "        x=self.dropout(x)\n",
    "        x = F.relu(self.hidden2(x))\n",
    "        x=self.bn2(x)\n",
    "        x =F.relu(self.hidden3(x))\n",
    "        x=self.bn3(x)\n",
    "        x=self.dropout(x)\n",
    "        x=F.relu(self.predict(x))\n",
    "        return x\n",
    "def accurate():\n",
    "    total = X_test.shape[0]\n",
    "    x_test=torch.tensor(X_test,dtype=torch.float)\n",
    "    y_test=torch.tensor(Y_test,dtype=torch.long)\n",
    "    outputs = MP(x_test)\n",
    "    _, predicted = torch.max(outputs.data, 1)\n",
    "    correct = (predicted.cpu() == y_test).sum()\n",
    "    confusion_matrix = torch.zeros(3, 3)\n",
    "    print('Accuracy of the network on the test data: %d %%' % (100 * correct / total))\n",
    "    for t, p in zip(y_test.view(-1), predicted.view(-1)):\n",
    "        confusion_matrix[t.long(), p.long()] += 1\n",
    "    print(confusion_matrix)"
   ]
  },
  {
   "cell_type": "code",
   "execution_count": 11,
   "metadata": {},
   "outputs": [
    {
     "name": "stdout",
     "output_type": "stream",
     "text": [
      "Accuracy of the network on the test data: 87 %\n",
      "tensor([[1.7680e+03, 1.0000e+00, 1.8700e+02],\n",
      "        [0.0000e+00, 1.8330e+03, 3.5000e+02],\n",
      "        [6.9000e+01, 2.1400e+02, 1.9350e+03]])\n"
     ]
    }
   ],
   "source": [
    "MP=Net(29,3)\n",
    "#load stat\n",
    "MP.load_state_dict(torch.load(Path('MLP_ILD_13.pt')))\n",
    "total = X_test.shape[0]\n",
    "x_test=torch.tensor(X_test,dtype=torch.float)\n",
    "y_test=torch.tensor(Y_test,dtype=torch.long)\n",
    "outputs = MP(x_test)\n",
    "_, predicted = torch.max(outputs.data, 1)\n",
    "correct = (predicted.cpu() == y_test).sum()\n",
    "confusion_matrix = torch.zeros(3, 3)\n",
    "print('Accuracy of the network on the test data: %d %%' % (100 * correct / total))\n",
    "for t, p in zip(y_test.view(-1), predicted.view(-1)):\n",
    " confusion_matrix[t.long(), p.long()] += 1\n",
    "print(confusion_matrix)"
   ]
  },
  {
   "cell_type": "code",
   "execution_count": 12,
   "metadata": {},
   "outputs": [
    {
     "name": "stdout",
     "output_type": "stream",
     "text": [
      "torch.Size([6357, 3]) torch.Size([6357])\n"
     ]
    }
   ],
   "source": [
    " print(outputs.shape,y_test.shape)"
   ]
  },
  {
   "cell_type": "code",
   "execution_count": null,
   "metadata": {},
   "outputs": [],
   "source": []
  },
  {
   "cell_type": "code",
   "execution_count": 13,
   "metadata": {},
   "outputs": [
    {
     "name": "stdout",
     "output_type": "stream",
     "text": [
      "(1146,) (1146,) 0.9289956411817257\n"
     ]
    },
    {
     "data": {
      "text/plain": [
       "<Figure size 432x288 with 0 Axes>"
      ]
     },
     "metadata": {},
     "output_type": "display_data"
    },
    {
     "data": {
      "image/png": "[encoded data removed]",
      "text/plain": [
       "<Figure size 432x288 with 1 Axes>"
      ]
     },
     "metadata": {
      "needs_background": "light"
     },
     "output_type": "display_data"
    }
   ],
   "source": [
    "plot_roc(y_test.numpy(),outputs.detach().numpy(),3)"
   ]
  },
  {
   "cell_type": "code",
   "execution_count": 15,
   "metadata": {},
   "outputs": [
    {
     "data": {
      "text/plain": [
       "(1146,)"
      ]
     },
     "execution_count": 15,
     "metadata": {},
     "output_type": "execute_result"
    }
   ],
   "source": [
    "azz['fpr'].shape"
   ]
  },
  {
   "cell_type": "code",
   "execution_count": 16,
   "metadata": {},
   "outputs": [],
   "source": [
    "dataset = pd.DataFrame({'fpr':azz['fpr'],'tpr':azz['tpr']})"
   ]
  },
  {
   "cell_type": "code",
   "execution_count": 17,
   "metadata": {},
   "outputs": [],
   "source": [
    "dataset.to_csv('ild_mlp_roc.csv')"
   ]
  },
  {
   "cell_type": "code",
   "execution_count": null,
   "metadata": {},
   "outputs": [],
   "source": []
  }
 ],
 "metadata": {
  "kernelspec": {
   "display_name": "Python 3",
   "language": "python",
   "name": "python3"
  },
  "language_info": {
   "codemirror_mode": {
    "name": "ipython",
    "version": 3
   },
   "file_extension": ".py",
   "mimetype": "text/x-python",
   "name": "python",
   "nbconvert_exporter": "python",
   "pygments_lexer": "ipython3",
   "version": "3.6.8"
  }
 },
 "nbformat": 4,
 "nbformat_minor": 2
}
