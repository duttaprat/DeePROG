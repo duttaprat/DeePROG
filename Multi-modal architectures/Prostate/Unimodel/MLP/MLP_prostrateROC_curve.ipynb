{
 "cells": [
  {
   "cell_type": "code",
   "execution_count": 1,
   "metadata": {},
   "outputs": [
    {
     "name": "stdout",
     "output_type": "stream",
     "text": [
      "1.0.1.post2\n",
      "True\n"
     ]
    }
   ],
   "source": [
    "import torch\n",
    "print(torch.__version__)\n",
    "print(torch.cuda.is_available())\n",
    "from sklearn.preprocessing import label_binarize\n",
    "from sklearn.metrics import roc_curve, auc\n",
    "import matplotlib.pyplot as plt"
   ]
  },
  {
   "cell_type": "code",
   "execution_count": 2,
   "metadata": {},
   "outputs": [],
   "source": [
    "from torch import nn\n",
    "import numpy as np\n",
    "from torch import nn\n",
    "from path import Path\n",
    "from sklearn import preprocessing\n",
    "from sklearn.preprocessing import LabelBinarizer\n",
    "import torch.nn.functional as F"
   ]
  },
  {
   "cell_type": "code",
   "execution_count": 3,
   "metadata": {},
   "outputs": [],
   "source": [
    "import os\n",
    "import pandas as pd\n",
    "import numpy as np\n",
    "import os\n",
    "from sklearn.model_selection import train_test_split"
   ]
  },
  {
   "cell_type": "code",
   "execution_count": 4,
   "metadata": {},
   "outputs": [],
   "source": [
    "import numpy as np\n",
    "import matplotlib.pyplot as plt\n",
    "from itertools import cycle\n",
    "\n",
    "from sklearn import svm, datasets\n",
    "from sklearn.metrics import roc_curve, auc\n",
    "from sklearn.model_selection import train_test_split\n",
    "from sklearn.preprocessing import label_binarize\n",
    "from sklearn.multiclass import OneVsRestClassifier\n",
    "from scipy import interp"
   ]
  },
  {
   "cell_type": "code",
   "execution_count": 5,
   "metadata": {},
   "outputs": [],
   "source": [
    "df=pd.DataFrame()\n",
    "azz={}"
   ]
  },
  {
   "cell_type": "code",
   "execution_count": 6,
   "metadata": {},
   "outputs": [],
   "source": [
    "def plot_roc(y_test,y_score,n_classes):\n",
    "    \n",
    "    \n",
    "    # Compute ROC curve and ROC area for each class\n",
    "    fpr = dict()\n",
    "    tpr = dict()\n",
    "    lb = LabelBinarizer()\n",
    "    y_test=lb.fit_transform(y_test)\n",
    "    \n",
    "    y_test = np.hstack((1 - y_test, y_test))\n",
    "    \n",
    "#     y_test=lb.inverse_transform(y_test[:, 0])\n",
    "#     print(y_test.shape)\n",
    "#     print(y_test)    \n",
    "#     print(y_test[:, 0])\n",
    "#     print(y_score[:, 0])\n",
    "#     print(y_score[:, 1])\n",
    "    roc_auc = dict()\n",
    "    for i in range(n_classes):\n",
    "        fpr[i], tpr[i], _ = roc_curve(y_test[:, i], y_score[:, i])\n",
    "        roc_auc[i] = auc(fpr[i], tpr[i])\n",
    "\n",
    "    # Compute micro-average ROC curve and ROC area\n",
    "    fpr[\"micro\"], tpr[\"micro\"], _ = roc_curve(y_test.ravel(), y_score.ravel())\n",
    "    roc_auc[\"micro\"] = auc(fpr[\"micro\"], tpr[\"micro\"])\n",
    "    all_fpr = np.unique(np.concatenate([fpr[i] for i in range(n_classes)]))\n",
    "    plt.figure()\n",
    "    lw = 2\n",
    "    # Then interpolate all ROC curves at this points\n",
    "    mean_tpr = np.zeros_like(all_fpr)\n",
    "    for i in range(n_classes):\n",
    "        mean_tpr += interp(all_fpr, fpr[i], tpr[i])\n",
    "\n",
    "    # Finally average it and compute AUC\n",
    "    mean_tpr /= n_classes\n",
    "\n",
    "    fpr[\"macro\"] = all_fpr\n",
    "    tpr[\"macro\"] = mean_tpr\n",
    "    roc_auc[\"macro\"] = auc(fpr[\"macro\"], tpr[\"macro\"])\n",
    "\n",
    "    # Plot all ROC curves\n",
    "    plt.figure()\n",
    "    plt.plot(fpr[\"micro\"], tpr[\"micro\"],\n",
    "             label='micro-average ROC curve (area = {0:0.2f})'\n",
    "                   ''.format(roc_auc[\"micro\"]),\n",
    "             color='deeppink', linestyle=':', linewidth=4)\n",
    "    azz['fpr']=fpr['macro']\n",
    "    azz['tpr']=tpr['macro']\n",
    "\n",
    "    plt.plot(fpr[\"macro\"], tpr[\"macro\"],\n",
    "             label='macro-average ROC curve (area = {0:0.2f})'\n",
    "                   ''.format(roc_auc[\"macro\"]),\n",
    "             color='navy', linestyle=':', linewidth=4)\n",
    "\n",
    "    colors = cycle(['aqua', 'darkorange', 'cornflowerblue'])\n",
    "    print(n_classes,\"yes\")\n",
    "    for i, color in zip(range(n_classes), colors):\n",
    "        print(i)\n",
    "        plt.plot(fpr[i], tpr[i], color=color, lw=lw,\n",
    "                 label='ROC curve of class {0} (area = {1:0.2f})'\n",
    "                 ''.format(i, roc_auc[i]))\n",
    "    plt.plot([0, 1], [0, 1], 'k--', lw=lw)\n",
    "    plt.xlim([0.0, 1.0])\n",
    "    plt.ylim([0.0, 1.05])\n",
    "    plt.xlabel('False Positive Rate')\n",
    "    plt.ylabel('True Positive Rate')\n",
    "    plt.title('MLP  FOR  PROSTATE  DATASET')\n",
    "    plt.legend(loc=\"lower right\")\n",
    "    plt.show()"
   ]
  },
  {
   "cell_type": "code",
   "execution_count": 7,
   "metadata": {},
   "outputs": [
    {
     "name": "stdout",
     "output_type": "stream",
     "text": [
      "2424 106\n"
     ]
    },
    {
     "data": {
      "text/html": [
       "<div>\n",
       "<style scoped>\n",
       "    .dataframe tbody tr th:only-of-type {\n",
       "        vertical-align: middle;\n",
       "    }\n",
       "\n",
       "    .dataframe tbody tr th {\n",
       "        vertical-align: top;\n",
       "    }\n",
       "\n",
       "    .dataframe thead th {\n",
       "        text-align: right;\n",
       "    }\n",
       "</style>\n",
       "<table border=\"1\" class=\"dataframe\">\n",
       "  <thead>\n",
       "    <tr style=\"text-align: right;\">\n",
       "      <th></th>\n",
       "      <th>id_ref</th>\n",
       "      <th>gen_name</th>\n",
       "      <th>v1</th>\n",
       "      <th>v2</th>\n",
       "      <th>v3</th>\n",
       "      <th>v4</th>\n",
       "      <th>v5</th>\n",
       "      <th>v6</th>\n",
       "      <th>v7</th>\n",
       "      <th>v8</th>\n",
       "      <th>...</th>\n",
       "      <th>v95</th>\n",
       "      <th>v96</th>\n",
       "      <th>v97</th>\n",
       "      <th>v98</th>\n",
       "      <th>v99</th>\n",
       "      <th>v100</th>\n",
       "      <th>v101</th>\n",
       "      <th>v102</th>\n",
       "      <th>v103</th>\n",
       "      <th>v104</th>\n",
       "    </tr>\n",
       "  </thead>\n",
       "  <tbody>\n",
       "    <tr>\n",
       "      <th>0</th>\n",
       "      <td>Hs6-1-6-1</td>\n",
       "      <td>VHL</td>\n",
       "      <td>-0.009053</td>\n",
       "      <td>0.036120</td>\n",
       "      <td>-0.13310</td>\n",
       "      <td>0.08359</td>\n",
       "      <td>-0.3133</td>\n",
       "      <td>0.09471</td>\n",
       "      <td>-0.19860</td>\n",
       "      <td>0.1129</td>\n",
       "      <td>...</td>\n",
       "      <td>-0.1065</td>\n",
       "      <td>-0.19410</td>\n",
       "      <td>-0.109500</td>\n",
       "      <td>-0.16090</td>\n",
       "      <td>-2.267000e-01</td>\n",
       "      <td>-0.06939</td>\n",
       "      <td>-0.22780</td>\n",
       "      <td>-0.317900</td>\n",
       "      <td>-0.3523</td>\n",
       "      <td>-0.2771</td>\n",
       "    </tr>\n",
       "    <tr>\n",
       "      <th>1</th>\n",
       "      <td>Hs6-1-16-1</td>\n",
       "      <td>SMOX</td>\n",
       "      <td>0.000000</td>\n",
       "      <td>0.000000</td>\n",
       "      <td>0.00000</td>\n",
       "      <td>0.11160</td>\n",
       "      <td>0.0000</td>\n",
       "      <td>0.00000</td>\n",
       "      <td>0.00000</td>\n",
       "      <td>0.0000</td>\n",
       "      <td>...</td>\n",
       "      <td>0.0000</td>\n",
       "      <td>0.00000</td>\n",
       "      <td>0.000000</td>\n",
       "      <td>0.17460</td>\n",
       "      <td>-5.180000e-10</td>\n",
       "      <td>0.00000</td>\n",
       "      <td>0.00000</td>\n",
       "      <td>0.000000</td>\n",
       "      <td>-0.3898</td>\n",
       "      <td>-0.1275</td>\n",
       "    </tr>\n",
       "    <tr>\n",
       "      <th>2</th>\n",
       "      <td>Hs6-1-6-2</td>\n",
       "      <td>ZNF148</td>\n",
       "      <td>0.189100</td>\n",
       "      <td>-0.175300</td>\n",
       "      <td>0.20240</td>\n",
       "      <td>0.05745</td>\n",
       "      <td>-0.5522</td>\n",
       "      <td>-0.04709</td>\n",
       "      <td>-0.19840</td>\n",
       "      <td>-0.2156</td>\n",
       "      <td>...</td>\n",
       "      <td>0.1284</td>\n",
       "      <td>-0.18470</td>\n",
       "      <td>0.007602</td>\n",
       "      <td>0.02113</td>\n",
       "      <td>4.399000e-01</td>\n",
       "      <td>-0.06516</td>\n",
       "      <td>0.01167</td>\n",
       "      <td>0.304800</td>\n",
       "      <td>0.3409</td>\n",
       "      <td>-0.1266</td>\n",
       "    </tr>\n",
       "    <tr>\n",
       "      <th>3</th>\n",
       "      <td>Hs6-1-10-2</td>\n",
       "      <td>MAP4K2</td>\n",
       "      <td>0.335300</td>\n",
       "      <td>0.145700</td>\n",
       "      <td>0.02996</td>\n",
       "      <td>-0.03641</td>\n",
       "      <td>-0.2931</td>\n",
       "      <td>0.23760</td>\n",
       "      <td>-0.01799</td>\n",
       "      <td>0.1953</td>\n",
       "      <td>...</td>\n",
       "      <td>0.3081</td>\n",
       "      <td>-0.25550</td>\n",
       "      <td>0.255800</td>\n",
       "      <td>-0.08655</td>\n",
       "      <td>3.707000e-02</td>\n",
       "      <td>0.03404</td>\n",
       "      <td>0.13550</td>\n",
       "      <td>-0.008265</td>\n",
       "      <td>0.1549</td>\n",
       "      <td>0.4213</td>\n",
       "    </tr>\n",
       "    <tr>\n",
       "      <th>4</th>\n",
       "      <td>Hs6-1-15-2</td>\n",
       "      <td>MAPK4</td>\n",
       "      <td>0.310600</td>\n",
       "      <td>0.008775</td>\n",
       "      <td>0.51170</td>\n",
       "      <td>-0.05886</td>\n",
       "      <td>-0.5037</td>\n",
       "      <td>0.36220</td>\n",
       "      <td>0.24620</td>\n",
       "      <td>0.4525</td>\n",
       "      <td>...</td>\n",
       "      <td>0.3401</td>\n",
       "      <td>-0.04517</td>\n",
       "      <td>0.493200</td>\n",
       "      <td>-0.22720</td>\n",
       "      <td>-1.430000e-01</td>\n",
       "      <td>0.26500</td>\n",
       "      <td>0.14160</td>\n",
       "      <td>0.334100</td>\n",
       "      <td>0.3155</td>\n",
       "      <td>0.5046</td>\n",
       "    </tr>\n",
       "  </tbody>\n",
       "</table>\n",
       "<p>5 rows × 106 columns</p>\n",
       "</div>"
      ],
      "text/plain": [
       "       id_ref gen_name        v1        v2       v3       v4      v5       v6  \\\n",
       "0   Hs6-1-6-1      VHL -0.009053  0.036120 -0.13310  0.08359 -0.3133  0.09471   \n",
       "1  Hs6-1-16-1     SMOX  0.000000  0.000000  0.00000  0.11160  0.0000  0.00000   \n",
       "2   Hs6-1-6-2   ZNF148  0.189100 -0.175300  0.20240  0.05745 -0.5522 -0.04709   \n",
       "3  Hs6-1-10-2   MAP4K2  0.335300  0.145700  0.02996 -0.03641 -0.2931  0.23760   \n",
       "4  Hs6-1-15-2    MAPK4  0.310600  0.008775  0.51170 -0.05886 -0.5037  0.36220   \n",
       "\n",
       "        v7      v8  ...     v95      v96       v97      v98           v99  \\\n",
       "0 -0.19860  0.1129  ... -0.1065 -0.19410 -0.109500 -0.16090 -2.267000e-01   \n",
       "1  0.00000  0.0000  ...  0.0000  0.00000  0.000000  0.17460 -5.180000e-10   \n",
       "2 -0.19840 -0.2156  ...  0.1284 -0.18470  0.007602  0.02113  4.399000e-01   \n",
       "3 -0.01799  0.1953  ...  0.3081 -0.25550  0.255800 -0.08655  3.707000e-02   \n",
       "4  0.24620  0.4525  ...  0.3401 -0.04517  0.493200 -0.22720 -1.430000e-01   \n",
       "\n",
       "      v100     v101      v102    v103    v104  \n",
       "0 -0.06939 -0.22780 -0.317900 -0.3523 -0.2771  \n",
       "1  0.00000  0.00000  0.000000 -0.3898 -0.1275  \n",
       "2 -0.06516  0.01167  0.304800  0.3409 -0.1266  \n",
       "3  0.03404  0.13550 -0.008265  0.1549  0.4213  \n",
       "4  0.26500  0.14160  0.334100  0.3155  0.5046  \n",
       "\n",
       "[5 rows x 106 columns]"
      ]
     },
     "execution_count": 7,
     "metadata": {},
     "output_type": "execute_result"
    }
   ],
   "source": [
    "seed=4\n",
    "df=pd.read_csv(\"preprocessed_prostrate.csv\")\n",
    "no_of_rows,no_of_cols=df.shape\n",
    "print (no_of_rows,no_of_cols)\n",
    "df.head()"
   ]
  },
  {
   "cell_type": "code",
   "execution_count": 8,
   "metadata": {},
   "outputs": [
    {
     "name": "stdout",
     "output_type": "stream",
     "text": [
      "(2424, 104)\n"
     ]
    }
   ],
   "source": [
    "header_of_pd=['v'+str(i+1) for i in range(no_of_cols-2)]\n",
    "X=np.array(df[header_of_pd])\n",
    "print(X.shape)"
   ]
  },
  {
   "cell_type": "code",
   "execution_count": null,
   "metadata": {},
   "outputs": [],
   "source": []
  },
  {
   "cell_type": "code",
   "execution_count": 9,
   "metadata": {},
   "outputs": [],
   "source": [
    "fil=open('Labels_prostate.txt','r')\n",
    "tmp=list()\n",
    "for line in fil:\n",
    "\ttmp.append(int(line))\n",
    "\n",
    "Y=np.array(tmp)\n"
   ]
  },
  {
   "cell_type": "code",
   "execution_count": 10,
   "metadata": {},
   "outputs": [
    {
     "name": "stdout",
     "output_type": "stream",
     "text": [
      "1170 1254\n"
     ]
    }
   ],
   "source": [
    "augmented_X=[]\n",
    "augmented_Y=[]\n",
    "a=0\n",
    "b=0\n",
    "c=0\n",
    "d=0\n",
    "choice=0\n",
    "t=0\n",
    "for i in Y:\n",
    "    if i==0:\n",
    "        \n",
    "        choice=1\n",
    "        a=a+choice\n",
    "    elif i==1:\n",
    "        choice=1\n",
    "        b=b+choice\n",
    "    for u in range(choice):\n",
    "        augmented_X.append(X[t])\n",
    "        augmented_Y.append(Y[t])\n",
    "    t=t+1\n",
    "    \n",
    "print(a,b)\n",
    "augmented_X=np.array(augmented_X)\n",
    "augmented_Y=np.array(augmented_Y)"
   ]
  },
  {
   "cell_type": "code",
   "execution_count": 11,
   "metadata": {},
   "outputs": [
    {
     "name": "stdout",
     "output_type": "stream",
     "text": [
      "(485, 104)\n"
     ]
    }
   ],
   "source": [
    "X_train,X_test,Y_train,Y_test=train_test_split(augmented_X,augmented_Y,test_size=0.20,random_state=2)\n",
    "print(X_test.shape)"
   ]
  },
  {
   "cell_type": "code",
   "execution_count": 12,
   "metadata": {},
   "outputs": [],
   "source": [
    "class Net(torch.nn.Module):\n",
    "    def __init__(self, n_feature,out_features):\n",
    "        super(Net, self).__init__()\n",
    "        self.hidden1 = torch.nn.Linear(n_feature,900)\n",
    "        self.hidden2 = torch.nn.Linear(900,600)\n",
    "        self.hidden3 = torch.nn.Linear(600,400)\n",
    "        self.hidden4 = torch.nn.Linear(400,100)\n",
    "        self.hidden5 =torch.nn.Linear (100,10)\n",
    "        self.predict = torch.nn.Linear(10,out_features)\n",
    "        self.bn1 = nn.BatchNorm1d(num_features=900)\n",
    "        self.bn2 = nn.BatchNorm1d(num_features=600)\n",
    "        self.bn3 = nn.BatchNorm1d(num_features=400)\n",
    "        self.bn4 = nn.BatchNorm1d(num_features=100)\n",
    "        self.bn5 = nn.BatchNorm1d(num_features=10)\n",
    "    def forward(self, x):\n",
    "        x = F.relu(self.hidden1(x))\n",
    "#         x=self.bn1(x)\n",
    "        x = F.relu(self.hidden2(x))\n",
    "#         x=self.bn2(x)\n",
    "        x =F.relu(self.hidden3(x))\n",
    "        x=self.bn3(x)\n",
    "        x =F.relu(self.hidden4(x))\n",
    "        x=self.bn4(x)\n",
    "        x =F.relu(self.hidden5(x))\n",
    "#         x=self.bn5(x)\n",
    "        \n",
    "        x=F.relu(self.predict(x))\n",
    "        return x"
   ]
  },
  {
   "cell_type": "code",
   "execution_count": 13,
   "metadata": {},
   "outputs": [
    {
     "name": "stdout",
     "output_type": "stream",
     "text": [
      "Accuracy of the network on the test data: 83 %\n",
      "tensor([[218.,  33.],\n",
      "        [ 48., 186.]])\n"
     ]
    }
   ],
   "source": [
    "MP=Net(104,2)\n",
    "MP.eval()\n",
    "MP.load_state_dict(torch.load(Path('80MLP_prostate.pt')))\n",
    "total = X_test.shape[0]\n",
    "x_test=torch.tensor(X_test,dtype=torch.float)\n",
    "y_test=torch.tensor(Y_test,dtype=torch.long)\n",
    "outputs = MP(x_test)\n",
    "_, predicted = torch.max(outputs.data, 1)\n",
    "correct = (predicted.cpu() == y_test).sum()\n",
    "confusion_matrix = torch.zeros(2, 2)\n",
    "print('Accuracy of the network on the test data: %d %%' % (100 * correct / total))\n",
    "for t, p in zip(y_test.view(-1), predicted.view(-1)):\n",
    " confusion_matrix[t.long(), p.long()] += 1\n",
    "print(confusion_matrix)\n",
    "\n"
   ]
  },
  {
   "cell_type": "code",
   "execution_count": 14,
   "metadata": {},
   "outputs": [
    {
     "name": "stdout",
     "output_type": "stream",
     "text": [
      "torch.Size([485, 2]) torch.Size([485])\n"
     ]
    }
   ],
   "source": [
    "print(outputs.shape,y_test.shape)"
   ]
  },
  {
   "cell_type": "code",
   "execution_count": 15,
   "metadata": {},
   "outputs": [
    {
     "name": "stdout",
     "output_type": "stream",
     "text": [
      "2 yes\n",
      "0\n",
      "1\n"
     ]
    },
    {
     "data": {
      "text/plain": [
       "<Figure size 432x288 with 0 Axes>"
      ]
     },
     "metadata": {},
     "output_type": "display_data"
    },
    {
     "data": {
      "image/png": "[encoded data removed]",
      "text/plain": [
       "<Figure size 432x288 with 1 Axes>"
      ]
     },
     "metadata": {
      "needs_background": "light"
     },
     "output_type": "display_data"
    }
   ],
   "source": [
    "plot_roc(y_test.numpy(),outputs.detach().numpy(),2)"
   ]
  },
  {
   "cell_type": "code",
   "execution_count": 16,
   "metadata": {},
   "outputs": [],
   "source": [
    " \n",
    "dataset = pd.DataFrame({'fpr':azz['fpr'],'tpr':azz['tpr']})"
   ]
  },
  {
   "cell_type": "code",
   "execution_count": 17,
   "metadata": {},
   "outputs": [],
   "source": [
    "dataset.to_csv('prostrate_mlp_roc.csv')"
   ]
  },
  {
   "cell_type": "code",
   "execution_count": null,
   "metadata": {},
   "outputs": [],
   "source": []
  }
 ],
 "metadata": {
  "kernelspec": {
   "display_name": "Python 3",
   "language": "python",
   "name": "python3"
  },
  "language_info": {
   "codemirror_mode": {
    "name": "ipython",
    "version": 3
   },
   "file_extension": ".py",
   "mimetype": "text/x-python",
   "name": "python",
   "nbconvert_exporter": "python",
   "pygments_lexer": "ipython3",
   "version": "3.6.8"
  }
 },
 "nbformat": 4,
 "nbformat_minor": 2
}
